{
  "nbformat": 4,
  "nbformat_minor": 0,
  "metadata": {
    "colab": {
      "name": "HTML2WORDPAIDFREE.ipynb",
      "provenance": [],
      "authorship_tag": "ABX9TyOU4rt2TJVXHDY5Czs+MAN8",
      "include_colab_link": true
    },
    "kernelspec": {
      "name": "python3",
      "display_name": "Python 3"
    },
    "language_info": {
      "name": "python"
    }
  },
  "cells": [
    {
      "cell_type": "markdown",
      "metadata": {
        "id": "view-in-github",
        "colab_type": "text"
      },
      "source": [
        "<a href=\"https://colab.research.google.com/github/Masterak25/Masterak25/blob/main/HTML2WORDPAIDFREE.ipynb\" target=\"_parent\"><img src=\"https://colab.research.google.com/assets/colab-badge.svg\" alt=\"Open In Colab\"/></a>"
      ]
    },
    {
      "cell_type": "code",
      "metadata": {
        "colab": {
          "base_uri": "https://localhost:8080/"
        },
        "id": "khQH9ZAnnv8r",
        "outputId": "c79c6f3b-49f7-43a2-8f4c-fb1b6abd3c2a"
      },
      "source": [
        "! pip install pdfcrowd"
      ],
      "execution_count": 2,
      "outputs": [
        {
          "output_type": "stream",
          "name": "stdout",
          "text": [
            "Collecting pdfcrowd\n",
            "  Downloading pdfcrowd-5.2.1-py2.py3-none-any.whl (40 kB)\n",
            "\u001b[?25l\r\u001b[K     |████████                        | 10 kB 21.7 MB/s eta 0:00:01\r\u001b[K     |████████████████                | 20 kB 26.2 MB/s eta 0:00:01\r\u001b[K     |████████████████████████▏       | 30 kB 21.0 MB/s eta 0:00:01\r\u001b[K     |████████████████████████████████| 40 kB 4.3 MB/s \n",
            "\u001b[?25hInstalling collected packages: pdfcrowd\n",
            "Successfully installed pdfcrowd-5.2.1\n"
          ]
        }
      ]
    },
    {
      "cell_type": "code",
      "metadata": {
        "id": "bzcSCDwLnxXr"
      },
      "source": [
        "import pdfcrowd\n",
        "import sys\n",
        "# go the below website create your acc and use your username and api in client \n",
        "# https://pdfcrowd.com/\n",
        "try:\n",
        "    # create the API client instance\n",
        "    client = pdfcrowd.HtmlToPdfClient('june286', 'b4d5f716b2e9ed1')\n",
        "\n",
        "    # run the conversion and write the result to a file\n",
        "    client.convertUrlToFile('https://resume.io/r/C9Eub4p1k', 'result.pdf')\n",
        "except pdfcrowd.Error as why:\n",
        "    # report the error\n",
        "    sys.stderr.write('Pdfcrowd Error: {}\\n'.format(why))\n",
        "\n",
        "    # rethrow or handle the exception\n",
        "    raise"
      ],
      "execution_count": 7,
      "outputs": []
    }
  ]
}